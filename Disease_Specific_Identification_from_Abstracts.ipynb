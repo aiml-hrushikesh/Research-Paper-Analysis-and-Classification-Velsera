{
  "cells": [
    {
      "cell_type": "markdown",
      "metadata": {
        "id": "view-in-github",
        "colab_type": "text"
      },
      "source": [
        "<a href=\"https://colab.research.google.com/github/aiml-hrushikesh/Research-Paper-Analysis-and-Classification-Velsera/blob/main/Disease_Specific_Identification_from_Abstracts.ipynb\" target=\"_parent\"><img src=\"https://colab.research.google.com/assets/colab-badge.svg\" alt=\"Open In Colab\"/></a>"
      ]
    },
    {
      "cell_type": "markdown",
      "metadata": {
        "id": "1fdb1d40"
      },
      "source": [
        "# Disease Specific Identification from Abstracts\n",
        "This notebook identifies disease-specific information from biomedical research abstracts.\n",
        "It leverages NLP tools like **spaCy** and **SciSpaCy** to extract and analyze entities.\n",
        "\n",
        "**Objective:**\n",
        "- Process abstracts using NLP pipelines\n",
        "- Identify disease-specific mentions\n",
        "- Analyze entity frequency and distribution"
      ]
    },
    {
      "cell_type": "code",
      "execution_count": 3,
      "metadata": {
        "colab": {
          "base_uri": "https://localhost:8080/"
        },
        "id": "7F_dgLLh3CRB",
        "outputId": "94329b0b-7a6f-40b7-c2eb-0e1935215906"
      },
      "outputs": [
        {
          "output_type": "stream",
          "name": "stdout",
          "text": [
            "\u001b[?25l     \u001b[90m━━━━━━━━━━━━━━━━━━━━━━━━━━━━━━━━━━━━━━━━\u001b[0m \u001b[32m0.0/61.0 kB\u001b[0m \u001b[31m?\u001b[0m eta \u001b[36m-:--:--\u001b[0m\r\u001b[2K     \u001b[90m━━━━━━━━━━━━━━━━━━━━━━━━━━━━━━━━━━━━━━━━\u001b[0m \u001b[32m61.0/61.0 kB\u001b[0m \u001b[31m5.4 MB/s\u001b[0m eta \u001b[36m0:00:00\u001b[0m\n",
            "\u001b[2K   \u001b[90m━━━━━━━━━━━━━━━━━━━━━━━━━━━━━━━━━━━━━━━━\u001b[0m \u001b[32m46.2/46.2 kB\u001b[0m \u001b[31m3.8 MB/s\u001b[0m eta \u001b[36m0:00:00\u001b[0m\n",
            "\u001b[2K   \u001b[90m━━━━━━━━━━━━━━━━━━━━━━━━━━━━━━━━━━━━━━━━\u001b[0m \u001b[32m14.1/14.1 MB\u001b[0m \u001b[31m76.9 MB/s\u001b[0m eta \u001b[36m0:00:00\u001b[0m\n",
            "\u001b[2K   \u001b[90m━━━━━━━━━━━━━━━━━━━━━━━━━━━━━━━━━━━━━━━━\u001b[0m \u001b[32m6.6/6.6 MB\u001b[0m \u001b[31m88.9 MB/s\u001b[0m eta \u001b[36m0:00:00\u001b[0m\n",
            "\u001b[2K   \u001b[90m━━━━━━━━━━━━━━━━━━━━━━━━━━━━━━━━━━━━━━━━\u001b[0m \u001b[32m920.2/920.2 kB\u001b[0m \u001b[31m47.3 MB/s\u001b[0m eta \u001b[36m0:00:00\u001b[0m\n",
            "\u001b[2K   \u001b[90m━━━━━━━━━━━━━━━━━━━━━━━━━━━━━━━━━━━━━━━━\u001b[0m \u001b[32m18.3/18.3 MB\u001b[0m \u001b[31m75.1 MB/s\u001b[0m eta \u001b[36m0:00:00\u001b[0m\n",
            "\u001b[2K   \u001b[90m━━━━━━━━━━━━━━━━━━━━━━━━━━━━━━━━━━━━━━━━\u001b[0m \u001b[32m71.1/71.1 kB\u001b[0m \u001b[31m5.3 MB/s\u001b[0m eta \u001b[36m0:00:00\u001b[0m\n",
            "\u001b[2K   \u001b[90m━━━━━━━━━━━━━━━━━━━━━━━━━━━━━━━━━━━━━━━━\u001b[0m \u001b[32m10.2/10.2 MB\u001b[0m \u001b[31m85.6 MB/s\u001b[0m eta \u001b[36m0:00:00\u001b[0m\n",
            "\u001b[2K   \u001b[90m━━━━━━━━━━━━━━━━━━━━━━━━━━━━━━━━━━━━━━━━\u001b[0m \u001b[32m243.3/243.3 kB\u001b[0m \u001b[31m18.6 MB/s\u001b[0m eta \u001b[36m0:00:00\u001b[0m\n",
            "\u001b[2K     \u001b[90m━━━━━━━━━━━━━━━━━━━━━━━━━━━━━━━━━━━━━━━━\u001b[0m \u001b[32m120.2/120.2 MB\u001b[0m \u001b[31m9.5 MB/s\u001b[0m eta \u001b[36m0:00:00\u001b[0m\n",
            "\u001b[?25h  Preparing metadata (setup.py) ... \u001b[?25l\u001b[?25hdone\n",
            "\u001b[2K     \u001b[90m━━━━━━━━━━━━━━━━━━━━━━━━━━━━━━━━━━━━━━━━\u001b[0m \u001b[32m153.9/153.9 kB\u001b[0m \u001b[31m8.9 MB/s\u001b[0m eta \u001b[36m0:00:00\u001b[0m\n",
            "\u001b[2K   \u001b[90m━━━━━━━━━━━━━━━━━━━━━━━━━━━━━━━━━━━━━━━━\u001b[0m \u001b[32m6.4/6.4 MB\u001b[0m \u001b[31m91.5 MB/s\u001b[0m eta \u001b[36m0:00:00\u001b[0m\n",
            "\u001b[2K   \u001b[90m━━━━━━━━━━━━━━━━━━━━━━━━━━━━━━━━━━━━━━━━\u001b[0m \u001b[32m47.3/47.3 kB\u001b[0m \u001b[31m4.1 MB/s\u001b[0m eta \u001b[36m0:00:00\u001b[0m\n",
            "\u001b[2K   \u001b[90m━━━━━━━━━━━━━━━━━━━━━━━━━━━━━━━━━━━━━━━━\u001b[0m \u001b[32m3.1/3.1 MB\u001b[0m \u001b[31m104.1 MB/s\u001b[0m eta \u001b[36m0:00:00\u001b[0m\n",
            "\u001b[2K   \u001b[90m━━━━━━━━━━━━━━━━━━━━━━━━━━━━━━━━━━━━━━━━\u001b[0m \u001b[32m57.0/57.0 kB\u001b[0m \u001b[31m5.3 MB/s\u001b[0m eta \u001b[36m0:00:00\u001b[0m\n",
            "\u001b[2K   \u001b[90m━━━━━━━━━━━━━━━━━━━━━━━━━━━━━━━━━━━━━━━━\u001b[0m \u001b[32m917.4/917.4 kB\u001b[0m \u001b[31m55.8 MB/s\u001b[0m eta \u001b[36m0:00:00\u001b[0m\n",
            "\u001b[?25h  Building wheel for en_ner_bc5cdr_md (setup.py) ... \u001b[?25l\u001b[?25hdone\n",
            "\u001b[31mERROR: pip's dependency resolver does not currently take into account all the packages that are installed. This behaviour is the source of the following dependency conflicts.\n",
            "scispacy 0.5.5 requires spacy<3.8.0,>=3.7.0, but you have spacy 3.4.4 which is incompatible.\n",
            "langchain-core 0.3.49 requires pydantic<3.0.0,>=2.5.2; python_full_version < \"3.12.4\", but you have pydantic 1.10.21 which is incompatible.\n",
            "google-genai 1.9.0 requires pydantic<3.0.0,>=2.0.0, but you have pydantic 1.10.21 which is incompatible.\n",
            "albumentations 2.0.5 requires pydantic>=2.9.2, but you have pydantic 1.10.21 which is incompatible.\n",
            "langchain 0.3.22 requires pydantic<3.0.0,>=2.7.4, but you have pydantic 1.10.21 which is incompatible.\u001b[0m\u001b[31m\n",
            "\u001b[0m"
          ]
        }
      ],
      "source": [
        "!pip install -q spacy scispacy\n",
        "!pip install -q https://s3-us-west-2.amazonaws.com/ai2-s2-scispacy/releases/v0.5.1/en_ner_bc5cdr_md-0.5.1.tar.gz"
      ]
    },
    {
      "cell_type": "code",
      "execution_count": 4,
      "metadata": {
        "id": "ehUGL6j-34zR"
      },
      "outputs": [],
      "source": [
        "# Importing required libraries\n",
        "import pandas as pd\n",
        "import spacy\n",
        "import json\n",
        "from collections import defaultdict"
      ]
    },
    {
      "cell_type": "markdown",
      "source": [
        "# **Model Selection**\n",
        "The en_ner_bc5cdr_md model is a biomedical NER model trained on the BioCreative V CDR corpus. It is specifically designed to identify diseases in medical and scientific texts. This makes it ideal for extracting relevant entities from research abstracts, clinical notes, and biomedical literature, offering better accuracy than general-purpose models for healthcare-related tasks."
      ],
      "metadata": {
        "id": "xA94UbYm_1Ab"
      }
    },
    {
      "cell_type": "code",
      "execution_count": 5,
      "metadata": {
        "colab": {
          "base_uri": "https://localhost:8080/"
        },
        "id": "k9yubQ1c5V1V",
        "outputId": "e74da537-1afe-4721-e110-d3ea2d8cefa4"
      },
      "outputs": [
        {
          "output_type": "stream",
          "name": "stderr",
          "text": [
            "/usr/local/lib/python3.11/dist-packages/spacy/util.py:910: UserWarning: [W095] Model 'en_ner_bc5cdr_md' (0.5.1) was trained with spaCy v3.4.1 and may not be 100% compatible with the current version (3.8.5). If you see errors or degraded performance, download a newer compatible model or retrain your custom model with the current spaCy version. For more details and available updates, run: python -m spacy validate\n",
            "  warnings.warn(warn_msg)\n"
          ]
        }
      ],
      "source": [
        "# Load biomedical NLP model\n",
        "nlp = spacy.load(\"en_ner_bc5cdr_md\")"
      ]
    },
    {
      "cell_type": "code",
      "source": [
        "data = [\n",
        "    {\n",
        "        \"abstract_id\": \"30884810\",\n",
        "        \"title\": \"PFKFB2 Promoter Hypomethylation as Recurrence Predictive Marker in Well-Differentiated Thyroid Carcinomas.\",\n",
        "        \"abstract\": \"Despite the low mortality rates, well-differentiated thyroid carcinomas (WDTC) frequently relapse. BRAF and TERT mutations have been extensively related to prognosis in thyroid cancer. In this study, the methylation levels of selected CpGs (5-cytosine-phosphate-guanine-3) comprising a classifier, previously reported by our group, were assessed in combination with BRAF and TERT mutations. We evaluated 121 WDTC, three poorly-differentiated/anaplastic thyroid carcinomas (PDTC/ATC), 22 benign thyroid lesions (BTL), and 13 non-neoplastic thyroid (NT) tissues. BRAF (V600E) and TERT promoter (C228T and C250T) mutations were tested by pyrosequencing and Sanger sequencing, respectively. Three CpGs mapped in PFKFB2, ATP6V0C, and CXXC5 were evaluated by bisulfite pyrosequencing. ATP6V0C hypermethylation and PFKFB2 hypomethylation were detected in poor-prognosis (PDTC/ATC and relapsed WDTC) compared with good-prognosis (no relapsed WDTC) and non-malignant cases (NT/BTL). CXXC5 was hypomethylated in both poor and good-prognosis cases. Shorter disease-free survival was observed in WDTC patients presenting lower PFKFB2 methylation levels (p = 0.004). No association was observed on comparing BRAF (60.7%) and TERT (3.4%) mutations and prognosis. Lower PFKFB2 methylation levels was an independent factor of high relapse risk (Hazard Ratio = 3.2; CI95% = 1.1-9.5). PFKFB2 promoter methylation analysis has potential applicability to better stratify WDTC patients according to the recurrence risk, independently of BRAF and TERT mutations.\"\n",
        "    },\n",
        "\n",
        "    {\n",
        "        \"abstract_id\": \"30885334\",\n",
        "        \"title\": \"A study of ALK-positive pulmonary squamous-cell carcinoma: From diagnostic methodologies to clinical efficacy.\",\n",
        "        \"abstract\": \"BACKGROUND: High concordance has been observed between Ventana D5F3 ALK immunohistochemistry (IHC) and fluorescence in-situ hybridization (FISH) in lung adenocarcinoma (LADC). However, whether a similar conclusion can be applied to lung squamous-cell carcinoma (LSCC) has remained unclear. We therefore evaluated the ALK (anaplastic lymphoma kinase) status and the therapeutic effect of an ALK tyrosine kinase inhibitor (TKI) in IHC- or FISH-positive LSCC. MATERIALS AND METHODS: A total of 2403 LSCC patients from three institutions were screened for ALK aberration by IHC. All IHC-positive cases were subjected to FISH (with an approximately equal number of negative cases as a control group) and next-generation sequencing (NGS). Clinical efficacy was evaluated for the patients who received TKI therapy. RESULTS: In 2403 cases of LSCC, 37 cases were identified as ALK-positive by IHC. After quality control, 28 cases were succeeded by FISH (six with insufficient tissue, three with lack of signals) and 13 by NGS (24 failed due to insufficient samples or poor DNA quality); the percentage of non-diagnostic tests was 24.3% (9/37) and 64.9% (24/37), respectively. Four cases (4/2394, 0.17%) analyzed by FISH were determined as ALK-positive. For the control group (40 ALK IHC), FISH demonstrated no samples with ALK gene fusion. The concordance between ALK IHC- and ALK FISH-positive results was 14.3% (4/28). In the 13 cases studied by NGS, two cases showed ALK-EML4 fusion (consistent with two FISH-positive results), and two cases were interpreted as harboring an ALK-association gene mutation. Among four patients (two FISH-positive and two IHC-positive only cases) receiving TKI therapy, two patients had stable disease and the other two had progressive disease. CONCLUSIONS: The positive concordance rate of ALK IHC and FISH in LSCC is far less than that reported for LADC. Therefore, ALK IHC detection in LSCC cannot be used as a diagnostic method for ALK rearrangement.\"\n",
        "    },\n",
        "    {\n",
        "        \"abstract_id\": \"30886395\",\n",
        "        \"title\": \"Immunotherapy in colorectal cancer: rationale, challenges and potential.\",\n",
        "        \"abstract\": \"Following initial successes in melanoma treatment, immunotherapy has rapidly become established as a major treatment modality for multiple types of solid cancers, including a subset of colorectal cancers (CRCs). Two programmed cell death 1 (PD1)-blocking antibodies, pembrolizumab and nivolumab, have shown efficacy in patients with metastatic CRC that is mismatch-repair-deficient and microsatellite instability-high (dMMR-MSI-H), and have been granted accelerated FDA approval. In contrast to most other treatments for metastatic cancer, immunotherapy achieves long-term durable remission in a subset of patients, highlighting the tremendous promise of immunotherapy in treating dMMR-MSI-H metastatic CRC. Here, we review the clinical development of immune checkpoint inhibition in CRC leading to regulatory approvals for the treatment of dMMR-MSI-H CRC. We focus on new advances in expanding the efficacy of immunotherapy to early-stage CRC and CRC that is mismatch-repair-proficient and has low microsatellite instability (pMMR-MSI-L) and discuss emerging approaches for targeting the immune microenvironment, which might complement immune checkpoint inhibition.\"\n",
        "    },\n",
        "    {\n",
        "        \"abstract_id\": \"30887763\",\n",
        "        \"title\": \"Immunotherapy in endometrial cancer: new scenarios on the horizon.\",\n",
        "        \"abstract\": \"This extensive review summarizes clinical evidence on immunotherapy and targeted therapy currently available for endometrial cancer (EC) and reports the results of the clinical trials and ongoing studies. The research was carried out collecting preclinical and clinical findings using keywords such as immune environment, tumor infiltrating lymphocytes, programmed death-1 (PD-1)/programmed death-ligand 1 (PD-L1) expression, immune checkpoint inhibitors, anti-PD-1/PD-L1 antibodies and others' on PubMed. Finally, we looked for the ongoing immunotherapy trials on ClinicalTrials.gov. EC is the fourth most common malignancy in women in developed countries. Despite medical and surgical treatments, survival has not improved in the last decade and death rates have increased for uterine cancer in women. Therefore, identification of clinically significant prognostic risk factors and formulation of new rational therapeutic regimens have great significance for enhancing the survival rate and improving the outcome in patients with advanced or metastatic disease. The identification of genetic alterations, including somatic mutations and microsatellite instability, and the definition of intracellular signaling pathways alterations that have a major role in in tumorigenesis is leading to the development of new therapeutic options for immunotherapy and targeted therapy.\"\n",
        "    }\n",
        "]"
      ],
      "metadata": {
        "id": "L3cxHM_8_HOC"
      },
      "execution_count": 11,
      "outputs": []
    },
    {
      "cell_type": "code",
      "execution_count": 12,
      "metadata": {
        "id": "fDXANVOD6q8N"
      },
      "outputs": [],
      "source": [
        "df = pd.DataFrame([{\n",
        "    \"ID\": item[\"abstract_id\"],\n",
        "    \"text\": item[\"title\"] + \" \" + item[\"abstract\"]\n",
        "} for item in data])\n",
        "\n",
        "# Define extraction function\n",
        "def extract_diseases(text, nlp):\n",
        "# Apply NLP model to extract entities from abstract text\n",
        "    doc = nlp(text)\n",
        "    diseases = defaultdict(list)\n",
        "\n",
        "    for ent in doc.ents:\n",
        "        if ent.label_ in ['DISEASE']:\n",
        "            normalized = ent.text.lower().strip()\n",
        "            diseases[normalized].append(ent.text)\n",
        "\n",
        "    # Choose longest variant\n",
        "    results = []\n",
        "    for variants in diseases.values():\n",
        "        best = max(variants, key=len)\n",
        "        results.append(best)\n",
        "\n",
        "    return results"
      ]
    },
    {
      "cell_type": "code",
      "execution_count": 13,
      "metadata": {
        "id": "ihcrOR8F6yJl"
      },
      "outputs": [],
      "source": [
        "\n",
        "# Process DataFrame\n",
        "def process_dataframe(df):\n",
        "    results = []\n",
        "\n",
        "    for _, row in df.iterrows():\n",
        "        diseases = extract_diseases(row['text'], nlp)\n",
        "\n",
        "        # Filter and deduplicate\n",
        "        final_diseases = []\n",
        "        seen = set()\n",
        "        for disease in diseases:\n",
        "            key = disease.lower()\n",
        "            if (key not in seen and len(disease) > 3\n",
        "                and not disease.isdigit() and ' ' in disease):\n",
        "                seen.add(key)\n",
        "                final_diseases.append(disease)\n",
        "\n",
        "        results.append({\n",
        "            \"abstract_id\": str(row['ID']),\n",
        "            \"extracted_diseases\": sorted(final_diseases)\n",
        "        })\n",
        "\n",
        "# Display the output\n",
        "    print(json.dumps(results, indent=2))\n",
        "    return results"
      ]
    },
    {
      "cell_type": "markdown",
      "source": [
        "# **Output**"
      ],
      "metadata": {
        "id": "BZGA5JxPAFPH"
      }
    },
    {
      "cell_type": "code",
      "execution_count": 14,
      "metadata": {
        "colab": {
          "base_uri": "https://localhost:8080/"
        },
        "id": "oXZbWF9L8BGV",
        "outputId": "9f267d05-5742-4f3f-a2cc-c068e1b4b84d"
      },
      "outputs": [
        {
          "output_type": "stream",
          "name": "stdout",
          "text": [
            "[\n",
            "  {\n",
            "    \"abstract_id\": \"30884810\",\n",
            "    \"extracted_diseases\": [\n",
            "      \"Thyroid Carcinomas\",\n",
            "      \"thyroid cancer\"\n",
            "    ]\n",
            "  },\n",
            "  {\n",
            "    \"abstract_id\": \"30885334\",\n",
            "    \"extracted_diseases\": [\n",
            "      \"ALK-positive pulmonary squamous-cell carcinoma\",\n",
            "      \"anaplastic lymphoma\",\n",
            "      \"lung adenocarcinoma\",\n",
            "      \"lung squamous-cell carcinoma\"\n",
            "    ]\n",
            "  },\n",
            "  {\n",
            "    \"abstract_id\": \"30886395\",\n",
            "    \"extracted_diseases\": [\n",
            "      \"colorectal cancer\",\n",
            "      \"colorectal cancers\"\n",
            "    ]\n",
            "  },\n",
            "  {\n",
            "    \"abstract_id\": \"30887763\",\n",
            "    \"extracted_diseases\": [\n",
            "      \"endometrial cancer\",\n",
            "      \"uterine cancer\"\n",
            "    ]\n",
            "  }\n",
            "]\n"
          ]
        }
      ],
      "source": [
        "# Run the processing\n",
        "processed_data = process_dataframe(df)"
      ]
    }
  ],
  "metadata": {
    "accelerator": "GPU",
    "colab": {
      "gpuType": "T4",
      "provenance": [],
      "include_colab_link": true
    },
    "kernelspec": {
      "display_name": "Python 3",
      "name": "python3"
    },
    "language_info": {
      "name": "python"
    }
  },
  "nbformat": 4,
  "nbformat_minor": 0
}